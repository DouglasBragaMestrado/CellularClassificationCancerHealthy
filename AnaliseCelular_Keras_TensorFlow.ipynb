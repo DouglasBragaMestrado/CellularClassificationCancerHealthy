{
 "cells": [
  {
   "cell_type": "code",
   "execution_count": 4,
   "metadata": {},
   "outputs": [],
   "source": [
    "import numpy as np\n",
    "import matplotlib.pyplot as plt\n",
    "import matplotlib.image as mpimg\n",
    "from mpl_toolkits.mplot3d import Axes3D\n",
    "from sklearn.neighbors import kneighbors_graph\n",
    "import tensorflow as tf\n",
    "import zipfile\n",
    "import os\n"
   ]
  },
  {
   "cell_type": "code",
   "execution_count": 3,
   "metadata": {},
   "outputs": [],
   "source": [
    "zip_ref = zipfile.ZipFile(\"tmp/fold_0.zip\", 'r')\n",
    "zip_ref.extractall(\"tmp\")\n",
    "zip_ref.close()"
   ]
  },
  {
   "cell_type": "code",
   "execution_count": 5,
   "metadata": {},
   "outputs": [],
   "source": [
    "zip_ref = zipfile.ZipFile(\"tmp/fold_1.zip\", 'r')\n",
    "zip_ref.extractall(\"tmp\")\n",
    "zip_ref.close()"
   ]
  },
  {
   "cell_type": "code",
   "execution_count": 16,
   "metadata": {},
   "outputs": [],
   "source": [
    "doente_dir = os.path.join('tmp/fold_0/all')\n",
    "saudavel_dir = os.path.join('tmp/fold_1/hem')"
   ]
  },
  {
   "cell_type": "code",
   "execution_count": 17,
   "metadata": {},
   "outputs": [
    {
     "name": "stdout",
     "output_type": "stream",
     "text": [
      "total de imagens doente: 2397\n",
      "total de imagens saudavel: 1163\n"
     ]
    }
   ],
   "source": [
    "print('total de imagens doente:', len(os.listdir(doente_dir)))\n",
    "print('total de imagens saudavel:', len(os.listdir(saudavel_dir)))"
   ]
  },
  {
   "cell_type": "code",
   "execution_count": null,
   "metadata": {},
   "outputs": [],
   "source": [
    "# Visualizar Array de imagens\n",
    "\n",
    "doente_files = os.listdir(doente_dir)\n",
    "print(doente_files[:10])\n",
    "\n",
    "saudavel_files = os.listdir(saudavel_dir)\n",
    "print(saudavel_files[:10])"
   ]
  },
  {
   "cell_type": "code",
   "execution_count": 19,
   "metadata": {},
   "outputs": [
    {
     "name": "stdout",
     "output_type": "stream",
     "text": [
      "Train Doente: 2397\n",
      "Train Saudavel: 1130\n",
      "Validation Doente: 2418\n",
      "Validation Saudavel: 1163\n"
     ]
    }
   ],
   "source": [
    "#Criando Dataset\n",
    "dataset_dir = os.path.join(os.getcwd(), 'tmp')\n",
    "dataset_train_dir = os.path.join(dataset_dir, 'fold_0') \n",
    "dataset_train_doente_len = len(os.listdir(os.path.join(dataset_train_dir, 'all'))) \n",
    "dataset_train_saudavel_len = len(os.listdir(os.path.join(dataset_train_dir, 'hem')))\n",
    "\n",
    "dataset_validation_dir = os.path.join(dataset_dir, 'fold_1')\n",
    "dataset_validation_doente_len = len(os.listdir(os.path.join(dataset_validation_dir, 'all'))) \n",
    "dataset_validation_saudavel_len = len(os.listdir(os.path.join(dataset_validation_dir, 'hem')))\n",
    "\n",
    "print('Train Doente: %s' % dataset_train_doente_len) \n",
    "print('Train Saudavel: %s' % dataset_train_saudavel_len) \n",
    "print('Validation Doente: %s' % dataset_validation_doente_len) \n",
    "print('Validation Saudavel: %s' % dataset_validation_saudavel_len)"
   ]
  },
  {
   "cell_type": "code",
   "execution_count": 20,
   "metadata": {},
   "outputs": [],
   "source": [
    "#Redimencionamento de Imagem\n",
    "\n",
    "image_width = 160\n",
    "image_height = 160\n",
    "image_color_channel = 3\n",
    "image_color_channel_size = 255\n",
    "image_size = (image_width, image_height)\n",
    "image_shape = image_size + (image_color_channel,)\n",
    "\n",
    "batch_size = 32\n",
    "epochs = 20\n",
    "learning_rate = 0.0001\n",
    "\n",
    "class_names = ['doente', 'saudavel']"
   ]
  },
  {
   "cell_type": "code",
   "execution_count": 21,
   "metadata": {},
   "outputs": [
    {
     "name": "stdout",
     "output_type": "stream",
     "text": [
      "Found 3527 files belonging to 2 classes.\n"
     ]
    }
   ],
   "source": [
    "#Dataset de Treino\n",
    "\n",
    "dataset_train = tf.keras.preprocessing.image_dataset_from_directory(\n",
    "    dataset_train_dir,\n",
    "    image_size = image_size,\n",
    "    batch_size = batch_size,\n",
    "    shuffle = True\n",
    ")"
   ]
  },
  {
   "cell_type": "code",
   "execution_count": 22,
   "metadata": {},
   "outputs": [
    {
     "name": "stdout",
     "output_type": "stream",
     "text": [
      "Found 3581 files belonging to 2 classes.\n"
     ]
    }
   ],
   "source": [
    "#Dataset de Validação\n",
    "\n",
    "dataset_validation = tf.keras.preprocessing.image_dataset_from_directory(\n",
    "    dataset_validation_dir,\n",
    "    image_size = (image_width, image_height),\n",
    "    batch_size = batch_size,\n",
    "    shuffle = True\n",
    ")"
   ]
  },
  {
   "cell_type": "code",
   "execution_count": 23,
   "metadata": {},
   "outputs": [
    {
     "name": "stdout",
     "output_type": "stream",
     "text": [
      "Validation Dataset Cardinality: 90\n",
      "Test Dataset Cardinality: 22\n"
     ]
    }
   ],
   "source": [
    "#Aplicando Cardinalidade\n",
    "\n",
    "dataset_validation_cardinality = tf.data.experimental.cardinality(dataset_validation)\n",
    "dataset_validation_batches = dataset_validation_cardinality // 5\n",
    "\n",
    "dataset_test = dataset_validation.take(dataset_validation_batches)\n",
    "dataset_validation = dataset_validation.skip(dataset_validation_batches)\n",
    "\n",
    "print('Validation Dataset Cardinality: %d' % tf.data.experimental.cardinality(dataset_validation))\n",
    "print('Test Dataset Cardinality: %d' % tf.data.experimental.cardinality(dataset_test))"
   ]
  },
  {
   "cell_type": "code",
   "execution_count": 24,
   "metadata": {},
   "outputs": [],
   "source": [
    "#Aplicando AutoTune\n",
    "\n",
    "autotune = tf.data.AUTOTUNE\n",
    "\n",
    "dataset_train = dataset_train.prefetch(buffer_size = autotune)\n",
    "dataset_validation = dataset_validation.prefetch(buffer_size = autotune)\n",
    "dataset_test = dataset_validation.prefetch(buffer_size = autotune)"
   ]
  },
  {
   "cell_type": "code",
   "execution_count": 25,
   "metadata": {},
   "outputs": [],
   "source": [
    "#Plotar Dataset\n",
    "\n",
    "def plot_dataset(dataset):\n",
    "\n",
    "    plt.gcf().clear()\n",
    "    plt.figure(figsize = (15, 15))\n",
    "\n",
    "    for features, labels in dataset.take(1):\n",
    "\n",
    "        for i in range(9):\n",
    "\n",
    "            plt.subplot(3, 3, i + 1)\n",
    "            plt.axis('off')\n",
    "\n",
    "            plt.imshow(features[i].numpy().astype('uint8'))\n",
    "            plt.title(class_names[labels[i]])"
   ]
  },
  {
   "cell_type": "code",
   "execution_count": null,
   "metadata": {},
   "outputs": [],
   "source": [
    "#Plotar Dataset de Treino\n",
    "\n",
    "plot_dataset(dataset_train)"
   ]
  },
  {
   "cell_type": "code",
   "execution_count": null,
   "metadata": {},
   "outputs": [],
   "source": [
    "#Plotar Dataset de Validação\n",
    "\n",
    "plot_dataset(dataset_validation)"
   ]
  },
  {
   "cell_type": "code",
   "execution_count": null,
   "metadata": {},
   "outputs": [],
   "source": [
    "#Plotar dataset de Teste\n",
    "\n",
    "plot_dataset(dataset_test)"
   ]
  },
  {
   "cell_type": "code",
   "execution_count": 30,
   "metadata": {},
   "outputs": [],
   "source": [
    "#Aplicando Augmentation\n",
    "\n",
    "data_augmentation = tf.keras.models.Sequential([\n",
    "    tf.keras.layers.experimental.preprocessing.RandomFlip('horizontal'),\n",
    "    tf.keras.layers.experimental.preprocessing.RandomRotation(0.2),\n",
    "    tf.keras.layers.experimental.preprocessing.RandomZoom(0.2)\n",
    "])\n",
    "\n",
    "def plot_dataset_data_augmentation(dataset):\n",
    "\n",
    "    plt.gcf().clear()\n",
    "    plt.figure(figsize = (15, 15))\n",
    "\n",
    "    for features, _ in dataset.take(1):\n",
    "\n",
    "        feature = features[0]\n",
    "\n",
    "        for i in range(9):\n",
    "\n",
    "            feature_data_augmentation = data_augmentation(tf.expand_dims(feature, 0))\n",
    "\n",
    "            plt.subplot(3, 3, i + 1)\n",
    "            plt.axis('off')\n",
    "\n",
    "            plt.imshow(feature_data_augmentation[0] / image_color_channel_size)"
   ]
  },
  {
   "cell_type": "code",
   "execution_count": null,
   "metadata": {},
   "outputs": [],
   "source": [
    "#Plotar Dataset Augmentation\n",
    "\n",
    "plot_dataset_data_augmentation(dataset_train)"
   ]
  },
  {
   "cell_type": "code",
   "execution_count": 32,
   "metadata": {},
   "outputs": [],
   "source": [
    "#Aplicando LAYER RESCALING\n",
    "\n",
    "rescaling = tf.keras.layers.experimental.preprocessing.Rescaling(1. / (image_color_channel_size / 2.), offset = -1, input_shape = image_shape)"
   ]
  },
  {
   "cell_type": "code",
   "execution_count": null,
   "metadata": {},
   "outputs": [],
   "source": [
    "#Aplicando TRANSFER LEARNING \n",
    "\n",
    "model_transfer_learning = tf.keras.applications.MobileNetV2(input_shape = image_shape, include_top = False, weights = 'imagenet')\n",
    "model_transfer_learning.trainable = False\n",
    "\n",
    "model_transfer_learning.summary()"
   ]
  },
  {
   "cell_type": "code",
   "execution_count": 34,
   "metadata": {},
   "outputs": [],
   "source": [
    "#Aplicando EARLY STOPPING\n",
    "\n",
    "early_stopping = tf.keras.callbacks.EarlyStopping(monitor = 'loss', patience = 3)"
   ]
  },
  {
   "cell_type": "code",
   "execution_count": null,
   "metadata": {},
   "outputs": [],
   "source": [
    "#Criando o Modelo\n",
    "\n",
    "model = tf.keras.models.Sequential([\n",
    "    rescaling,\n",
    "    data_augmentation,\n",
    "    model_transfer_learning,\n",
    "    tf.keras.layers.GlobalAveragePooling2D(),\n",
    "    tf.keras.layers.Dropout(0.2),\n",
    "    tf.keras.layers.Dense(1, activation = 'sigmoid')\n",
    "])\n",
    "\n",
    "model.compile(\n",
    "    optimizer = tf.keras.optimizers.Adam(learning_rate = learning_rate),\n",
    "    loss = tf.keras.losses.BinaryCrossentropy(),\n",
    "    metrics = ['accuracy']\n",
    ")\n",
    "\n",
    "model.summary()"
   ]
  },
  {
   "cell_type": "code",
   "execution_count": null,
   "metadata": {},
   "outputs": [],
   "source": [
    "# Aplicando Fit History\n",
    "\n",
    "history = model.fit(\n",
    "    dataset_train,\n",
    "    validation_data = dataset_validation,\n",
    "    epochs = epochs,\n",
    "    callbacks = [\n",
    "        early_stopping\n",
    "    ]\n",
    ")"
   ]
  },
  {
   "cell_type": "code",
   "execution_count": 38,
   "metadata": {},
   "outputs": [],
   "source": [
    "# Plotar Modelo\n",
    "\n",
    "def plot_model():\n",
    "\n",
    "    accuracy = history.history['accuracy']\n",
    "    val_accuracy = history.history['val_accuracy']\n",
    "\n",
    "    loss = history.history['loss']\n",
    "    val_loss = history.history['val_loss']\n",
    "\n",
    "    epochs_range = range(epochs)\n",
    "\n",
    "    plt.gcf().clear()\n",
    "    plt.figure(figsize = (15, 8))\n",
    "\n",
    "    plt.subplot(1, 2, 1)\n",
    "    plt.title('Training and Validation Accuracy')\n",
    "    plt.plot(epochs_range, accuracy, label = 'Training Accuracy')\n",
    "    plt.plot(epochs_range, val_accuracy, label = 'Validation Accuracy')\n",
    "    plt.legend(loc = 'lower right')\n",
    "\n",
    "    plt.subplot(1, 2, 2)\n",
    "    plt.title('Training and Validation Loss')\n",
    "    plt.plot(epochs_range, loss, label = 'Training Loss')\n",
    "    plt.plot(epochs_range, val_loss, label = 'Validation Loss')\n",
    "    plt.legend(loc = 'lower right')\n",
    "\n",
    "    plt.show()\n",
    "    \n",
    "    plot_model()"
   ]
  },
  {
   "cell_type": "code",
   "execution_count": null,
   "metadata": {},
   "outputs": [],
   "source": [
    "# Avaliando Modelo\n",
    "\n",
    "dataset_test_loss, dataset_test_accuracy = model.evaluate(dataset_test)\n",
    "\n",
    "print('Dataset Test Loss:     %s' % dataset_test_loss)\n",
    "print('Dataset Test Accuracy: %s' % dataset_test_accuracy)"
   ]
  },
  {
   "cell_type": "code",
   "execution_count": null,
   "metadata": {},
   "outputs": [],
   "source": [
    "# Plotar Dataset de Predições\n",
    "\n",
    "def plot_dataset_predictions(dataset):\n",
    "\n",
    "    features, labels = dataset_test.as_numpy_iterator().next()\n",
    "\n",
    "    predictions = model.predict_on_batch(features).flatten()\n",
    "    predictions = tf.where(predictions < 0.5, 0, 1)\n",
    "\n",
    "    print('Labels:      %s' % labels)\n",
    "    print('Predictions: %s' % predictions.numpy())\n",
    "\n",
    "    plt.gcf().clear()\n",
    "    plt.figure(figsize = (15, 15))\n",
    "\n",
    "    for i in range(9):\n",
    "\n",
    "        plt.subplot(3, 3, i + 1)\n",
    "        plt.axis('off')\n",
    "\n",
    "        plt.imshow(features[i].astype('uint8'))\n",
    "        plt.title(class_names[predictions[i]])\n",
    "        \n",
    "plot_dataset_predictions(dataset_test)"
   ]
  },
  {
   "cell_type": "code",
   "execution_count": null,
   "metadata": {},
   "outputs": [],
   "source": [
    "#Salvando\n",
    "\n",
    "model.save('model')"
   ]
  },
  {
   "cell_type": "code",
   "execution_count": 7,
   "metadata": {},
   "outputs": [],
   "source": [
    "# Função de Predição\n",
    "\n",
    "def predict(image_file,size_image):\n",
    "\n",
    "    #image = tf.keras.preprocessing.image.load_img(image_file, target_size = image_size)\n",
    "    image = tf.keras.preprocessing.image.load_img(image_file, target_size = size_image)\n",
    "    image = tf.keras.preprocessing.image.img_to_array(image)\n",
    "    image = tf.expand_dims(image, 0)\n",
    "\n",
    "    prediction = model.predict(image)[0][0]\n",
    "\n",
    "    print('Prediction: {0} | {1}'.format(prediction, ('Doente' if prediction < 0.5 else 'Saudavel')))"
   ]
  },
  {
   "cell_type": "code",
   "execution_count": 5,
   "metadata": {},
   "outputs": [],
   "source": [
    "#Subindo o Modelo\n",
    "model = tf.keras.models.load_model('model')"
   ]
  },
  {
   "cell_type": "code",
   "execution_count": null,
   "metadata": {},
   "outputs": [],
   "source": [
    "# Teste de Predição de Imagem\n",
    "\n",
    "image_width = 160\n",
    "image_height = 160\n",
    "size_image = (image_width, image_height)\n",
    "\n",
    "\n",
    "predict(\"tmp/fold_1/hem/UID_H10_107_2_hem.bmp\",size_image)\n"
   ]
  }
 ],
 "metadata": {
  "kernelspec": {
   "display_name": "Python 3.10.6 64-bit",
   "language": "python",
   "name": "python3"
  },
  "language_info": {
   "codemirror_mode": {
    "name": "ipython",
    "version": 3
   },
   "file_extension": ".py",
   "mimetype": "text/x-python",
   "name": "python",
   "nbconvert_exporter": "python",
   "pygments_lexer": "ipython3",
   "version": "3.10.7"
  },
  "orig_nbformat": 4,
  "vscode": {
   "interpreter": {
    "hash": "369f2c481f4da34e4445cda3fffd2e751bd1c4d706f27375911949ba6bb62e1c"
   }
  }
 },
 "nbformat": 4,
 "nbformat_minor": 2
}
